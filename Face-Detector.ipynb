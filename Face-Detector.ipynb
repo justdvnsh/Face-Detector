{
 "cells": [
  {
   "cell_type": "code",
   "execution_count": null,
   "metadata": {
    "collapsed": true
   },
   "outputs": [],
   "source": [
    "import cv2\n",
    "import glob\n",
    "\n",
    "images = glob.glob(\"images/*.jpg\")\n",
    "\n",
    "for image in images:\n",
    "\t\t\n",
    "\tface_cascade = cv2.CascadeClassifier(\"haarcascade_frontalface_default.xml\")\n",
    "\n",
    "\timg = cv2.imread(image)\n",
    "\n",
    "\tgray_img = cv2.cvtColor(img, cv2.COLOR_BGR2GRAY)\n",
    "\n",
    "\tfaces = face_cascade.detectMultiScale(gray_img, scaleFactor=1.03, minNeighbors=5)\n",
    "\n",
    "\tfor x,y,w,h in faces:\n",
    "\t\timg = cv2.rectangle(img, (x,y), (x+w, y+h), (0,255,0), 3)\n",
    "\t\t\n",
    "\tresized = cv2.resize(img, (800, 600))\n",
    "\n",
    "\tcv2.imshow(\"GRAY\", resized)\n",
    "\tcv2.waitKey(0)\n",
    "\tcv2.destroyAllWindows()"
   ]
  }
 ],
 "metadata": {
  "kernelspec": {
   "display_name": "Python 3",
   "language": "python",
   "name": "python3"
  },
  "language_info": {
   "codemirror_mode": {
    "name": "ipython",
    "version": 3
   },
   "file_extension": ".py",
   "mimetype": "text/x-python",
   "name": "python",
   "nbconvert_exporter": "python",
   "pygments_lexer": "ipython3",
   "version": "3.5.3"
  }
 },
 "nbformat": 4,
 "nbformat_minor": 2
}
